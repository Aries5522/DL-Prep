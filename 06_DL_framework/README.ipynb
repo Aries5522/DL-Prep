{
 "cells": [
  {
   "cell_type": "markdown",
   "metadata": {
    "collapsed": true,
    "pycharm": {
     "name": "#%% md\n"
    }
   },
   "source": [
    "# 深度学习框架\n",
    "总结深度学习框架：pytorch，tensorflow等中的语法和机制\n",
    "\n",
    "根据[深度学习框架pytorch 入门与实践](https://github.com/chenyuntc/pytorch-book) 的结构总结+[网页](https://pytorch.apachecn.org/docs/1.2/intermediate/model_parallel_tutorial.html)\n",
    "\n",
    "\n",
    "### Table of Contents\n",
    "\n",
    "* [Chapter 1](#chapter1)\n",
    "    * [Section 1.1](#section_1_1)\n",
    "    * [Section 1.2](sSection_1_2)\n",
    "        * [Section 1.2.1](#section_1_2_1)\n",
    "        * [Section 1.2.2](#section_1_2_2)\n",
    "        * [Section 1.2.3](#section_1_2_3)\n",
    "* [Chapter 2](#chapter2)\n",
    "    * [Section 2.1](#section_2_1)\n",
    "    * [Section 2.2](#section_2_2)\n",
    "\n",
    "### Chapter 1 <a class=\"anchor\" id=\"chapter1\"></a>\n",
    "\n",
    "#### Section 1.1 <a class=\"anchor\" id=\"section_1_1\"></a>\n",
    "\n",
    "#### Section 1.2 <a class=\"anchor\" id=\"section_1_2\"></a>\n",
    "\n",
    "##### Section 1.2.1 <a class=\"anchor\" id=\"section_1_2_1\"></a>\n",
    "\n",
    "##### Section 1.2.2 <a class=\"anchor\" id=\"section_1_2_2\"></a>\n",
    "\n",
    "##### Section 1.2.3 <a class=\"anchor\" id=\"section_1_2_3\"></a>\n",
    "\n",
    "### Chapter 2 <a class=\"anchor\" id=\"chapter2\"></a>\n",
    "\n",
    "#### Section 2.1 <a class=\"anchor\" id=\"section_2_1\"></a>\n",
    "\n",
    "#### Section 2.2 <a class=\"anchor\" id=\"section_2_2\"></a>"
   ]
  }
 ],
 "metadata": {
  "kernelspec": {
   "display_name": "Python 3",
   "language": "python",
   "name": "python3"
  },
  "language_info": {
   "codemirror_mode": {
    "name": "ipython",
    "version": 2
   },
   "file_extension": ".py",
   "mimetype": "text/x-python",
   "name": "python",
   "nbconvert_exporter": "python",
   "pygments_lexer": "ipython2",
   "version": "2.7.6"
  }
 },
 "nbformat": 4,
 "nbformat_minor": 0
}