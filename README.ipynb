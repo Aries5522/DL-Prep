{
 "cells": [
  {
   "cell_type": "markdown",
   "metadata": {
    "collapsed": true,
    "pycharm": {
     "name": "#%% md\n"
    }
   },
   "source": [
    "# DL-Prep\n",
    "**深度学习基础知识，算法，面试题**\n",
    "**由 UESTC DL 学习小组开发和维护**\n",
    "\n",
    "1. [数学相关(Math)](01_Math/README.ipynb)\n",
    "2. [机器学习基础相关(ML)](02_ML_knowledge/README.ipynb)\n",
    "3. [深度学习相关(DL)](03_DL_knowledge/README.ipynb)\n",
    "4. [基础算法题相关(AL)](04_Algorithms/README.ipynb)\n",
    "5. [语言相关(LA)](05_Language/README.ipynb)\n",
    "6. [深度学习框架(DF)](06_DL_framework/README.ipynb)\n",
    "6. [面试题(IQ)](07_Interview_Questions/README.ipynb)\n",
    "\n",
    "\n",
    "## 维护笔记\n",
    "1. 当需要更改前，增加一个新的 branch，确认自己的更改好之后，再和 master 合并\n",
    "1. 当需要添加新知识时，可以对照目录，插入到对应的位置，并按照格式增加目录和在相应位置增加内容\n",
    "2. 插入图片时，先将图片放入 Pics 文件夹，随后按照相对路径插入\n",
    "3. 插入了目录，但是又没有时间写内容？ 可以加个 **todo** 之后补全\n",
    "3. 大纲和格式可能有错漏，欢迎互相指正修改~\n",
    "\n",
    "### 增加了 Jupyter Notebook之后\n",
    "我们将在 README.md 的基础上增加 Jupyter Notebook， 这样，我们可以方便在本地查看公式，并运行代码。MD则在 Github 上可以提供大纲的预览。\n",
    "建议的方式是：\n",
    "- 查看：将 Github 的仓库拉取到本地，并在本地 launch Jupyter Server 进行查看，查看时先打开第一层级的 README.ipynb 进行索引\n",
    "- 修改：新开 branch 后在 Pycharm / Jupyter Notebook 等编辑器中编辑，编辑 Jupyter Notebook 的同时，我们需要在MD里面进行目录的同步。并用【查看】的方式预览编辑效果\n",
    "- 合并：本地修改好了之后，使用 Git commit， Git push， 再在本地或者云端merge\n",
    "\n",
    "原则是：Jupyter Notebook 负责内容，因此 MarkDown 中有的内容，Jupyter Notebook 中一定会有； 同时 Readme.md 提供预览，因此需要有大纲和相关说明。\n",
    "先行编辑 Jupyter Notebook，之后在 MarkDown 中相应更新。\n",
    "\n",
    "### 如何添加 Anchor ？\n",
    "Anchor 帮助我们快速跳转到需要的内容，那么如何添加 anchor 呢？\n",
    "详见 [添加Anchor](Utils/AddAnchor.ipynb)\n",
    "\n",
    "## 其他\n",
    "欢迎大家 fork, pull request, star 这个项目\n",
    "大部分都是手打，根据资料整理，如有问题，欢迎 fork 之后 pull request 或者 issue 中提出，我们会尽可能及时回复"
   ]
  }
 ],
 "metadata": {
  "kernelspec": {
   "display_name": "Python 3",
   "language": "python",
   "name": "python3"
  },
  "language_info": {
   "codemirror_mode": {
    "name": "ipython",
    "version": 3
   },
   "file_extension": ".py",
   "mimetype": "text/x-python",
   "name": "python",
   "nbconvert_exporter": "python",
   "pygments_lexer": "ipython3",
   "version": "3.6.5"
  }
 },
 "nbformat": 4,
 "nbformat_minor": 1
}
